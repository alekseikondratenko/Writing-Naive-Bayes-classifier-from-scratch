{
 "cells": [
  {
   "cell_type": "markdown",
   "metadata": {},
   "source": [
    "# Building a spam filter with Naive Bayes\n",
    "\n",
    "Our first task is to \"teach\" the computer how to classify SMS messages (spam or non-spam). To do that, we'll use the multinomial Naive Bayes algorithm along with a dataset of 5,572 SMS messages that are already classified by humans.\n",
    "\n",
    "The dataset was put together by Tiago A. Almeida and José María Gómez Hidalgo, and it can be downloaded from the The [UCI Machine Learning Repository](https://archive.ics.uci.edu/ml/datasets/sms+spam+collection).\n",
    "\n",
    "The data collection process is described in more details on [this page](https://www.dt.fee.unicamp.br/~tiago/smsspamcollection/#composition), where you can also find some of the authors' papers.\n",
    "\n",
    "For this project, our goal is to create a spam filter that classifies new messages with an accuracy greater than 80% — so we expect that more than 80% of the new messages will be classified correctly as spam or ham (non-spam). Another goal will be compare the performance of our manually-written algorithm with scikit-learn's `MultinomialNB` classifier.\n",
    "\n",
    "As a result, our algorithm is able to identify spam messages with 98.74% accuracy which is just a bit lower than scikit-learn's `MultinomialNB` classifier result (99.01%)."
   ]
  },
  {
   "cell_type": "code",
   "execution_count": 1,
   "metadata": {},
   "outputs": [],
   "source": [
    "import numpy as np\n",
    "import pandas as pd\n",
    "import re"
   ]
  },
  {
   "cell_type": "markdown",
   "metadata": {},
   "source": [
    "## Exploring the dataset"
   ]
  },
  {
   "cell_type": "code",
   "execution_count": 2,
   "metadata": {},
   "outputs": [
    {
     "data": {
      "text/html": [
       "<div>\n",
       "<style scoped>\n",
       "    .dataframe tbody tr th:only-of-type {\n",
       "        vertical-align: middle;\n",
       "    }\n",
       "\n",
       "    .dataframe tbody tr th {\n",
       "        vertical-align: top;\n",
       "    }\n",
       "\n",
       "    .dataframe thead th {\n",
       "        text-align: right;\n",
       "    }\n",
       "</style>\n",
       "<table border=\"1\" class=\"dataframe\">\n",
       "  <thead>\n",
       "    <tr style=\"text-align: right;\">\n",
       "      <th></th>\n",
       "      <th>Label</th>\n",
       "      <th>SMS</th>\n",
       "    </tr>\n",
       "  </thead>\n",
       "  <tbody>\n",
       "    <tr>\n",
       "      <th>0</th>\n",
       "      <td>ham</td>\n",
       "      <td>Go until jurong point, crazy.. Available only ...</td>\n",
       "    </tr>\n",
       "    <tr>\n",
       "      <th>1</th>\n",
       "      <td>ham</td>\n",
       "      <td>Ok lar... Joking wif u oni...</td>\n",
       "    </tr>\n",
       "    <tr>\n",
       "      <th>2</th>\n",
       "      <td>spam</td>\n",
       "      <td>Free entry in 2 a wkly comp to win FA Cup fina...</td>\n",
       "    </tr>\n",
       "    <tr>\n",
       "      <th>3</th>\n",
       "      <td>ham</td>\n",
       "      <td>U dun say so early hor... U c already then say...</td>\n",
       "    </tr>\n",
       "    <tr>\n",
       "      <th>4</th>\n",
       "      <td>ham</td>\n",
       "      <td>Nah I don't think he goes to usf, he lives aro...</td>\n",
       "    </tr>\n",
       "    <tr>\n",
       "      <th>...</th>\n",
       "      <td>...</td>\n",
       "      <td>...</td>\n",
       "    </tr>\n",
       "    <tr>\n",
       "      <th>5567</th>\n",
       "      <td>spam</td>\n",
       "      <td>This is the 2nd time we have tried 2 contact u...</td>\n",
       "    </tr>\n",
       "    <tr>\n",
       "      <th>5568</th>\n",
       "      <td>ham</td>\n",
       "      <td>Will ü b going to esplanade fr home?</td>\n",
       "    </tr>\n",
       "    <tr>\n",
       "      <th>5569</th>\n",
       "      <td>ham</td>\n",
       "      <td>Pity, * was in mood for that. So...any other s...</td>\n",
       "    </tr>\n",
       "    <tr>\n",
       "      <th>5570</th>\n",
       "      <td>ham</td>\n",
       "      <td>The guy did some bitching but I acted like i'd...</td>\n",
       "    </tr>\n",
       "    <tr>\n",
       "      <th>5571</th>\n",
       "      <td>ham</td>\n",
       "      <td>Rofl. Its true to its name</td>\n",
       "    </tr>\n",
       "  </tbody>\n",
       "</table>\n",
       "<p>5572 rows × 2 columns</p>\n",
       "</div>"
      ],
      "text/plain": [
       "     Label                                                SMS\n",
       "0      ham  Go until jurong point, crazy.. Available only ...\n",
       "1      ham                      Ok lar... Joking wif u oni...\n",
       "2     spam  Free entry in 2 a wkly comp to win FA Cup fina...\n",
       "3      ham  U dun say so early hor... U c already then say...\n",
       "4      ham  Nah I don't think he goes to usf, he lives aro...\n",
       "...    ...                                                ...\n",
       "5567  spam  This is the 2nd time we have tried 2 contact u...\n",
       "5568   ham               Will ü b going to esplanade fr home?\n",
       "5569   ham  Pity, * was in mood for that. So...any other s...\n",
       "5570   ham  The guy did some bitching but I acted like i'd...\n",
       "5571   ham                         Rofl. Its true to its name\n",
       "\n",
       "[5572 rows x 2 columns]"
      ]
     },
     "execution_count": 2,
     "metadata": {},
     "output_type": "execute_result"
    }
   ],
   "source": [
    "SMS = pd.read_csv('SMSSpamCollection', sep='\\t', header=None, names=['Label', 'SMS'])\n",
    "SMS"
   ]
  },
  {
   "cell_type": "code",
   "execution_count": 3,
   "metadata": {},
   "outputs": [
    {
     "name": "stdout",
     "output_type": "stream",
     "text": [
      "<class 'pandas.core.frame.DataFrame'>\n",
      "RangeIndex: 5572 entries, 0 to 5571\n",
      "Data columns (total 2 columns):\n",
      " #   Column  Non-Null Count  Dtype \n",
      "---  ------  --------------  ----- \n",
      " 0   Label   5572 non-null   object\n",
      " 1   SMS     5572 non-null   object\n",
      "dtypes: object(2)\n",
      "memory usage: 87.2+ KB\n"
     ]
    }
   ],
   "source": [
    "SMS.info()"
   ]
  },
  {
   "cell_type": "code",
   "execution_count": 4,
   "metadata": {},
   "outputs": [
    {
     "data": {
      "text/plain": [
       "ham     4825\n",
       "spam     747\n",
       "Name: Label, dtype: int64"
      ]
     },
     "execution_count": 4,
     "metadata": {},
     "output_type": "execute_result"
    }
   ],
   "source": [
    "# How many span and non-spam messages are out there\n",
    "SMS['Label'].value_counts()"
   ]
  },
  {
   "cell_type": "code",
   "execution_count": 5,
   "metadata": {},
   "outputs": [
    {
     "data": {
      "text/plain": [
       "ham     86.59\n",
       "spam    13.41\n",
       "Name: Label, dtype: float64"
      ]
     },
     "execution_count": 5,
     "metadata": {},
     "output_type": "execute_result"
    }
   ],
   "source": [
    "# In percentages\n",
    "(SMS['Label'].value_counts(normalize=True)*100).round(2)"
   ]
  },
  {
   "cell_type": "markdown",
   "metadata": {},
   "source": [
    "## Splitting original data into training and testing datasets"
   ]
  },
  {
   "cell_type": "markdown",
   "metadata": {},
   "source": [
    "Once our spam filter is done, we'll need to test how good it is with classifying new messages. To test the spam filter, we're first going to split our dataset into two categories:\n",
    "\n",
    "* A **training set**, which we'll use to \"train\" the computer how to classify messages.\n",
    "* A **test set**, which we'll use to test how good the spam filter is with classifying new messages.\n",
    "\n",
    "We're going to keep 80% of our dataset for training, and 20% for testing (we want to train the algorithm on as much data as possible, but we also want to have enough test data)."
   ]
  },
  {
   "cell_type": "code",
   "execution_count": 6,
   "metadata": {},
   "outputs": [
    {
     "name": "stdout",
     "output_type": "stream",
     "text": [
      "Traing data size : (4458, 2)\n",
      "Testing data size : (1114, 2)\n"
     ]
    }
   ],
   "source": [
    "# Randomize the dataset\n",
    "data_randomized = SMS.sample(frac=1, random_state=1) # The whole sample is randomized\n",
    "\n",
    "# Calculate index for split\n",
    "training_test_index = round(len(data_randomized) * 0.8)\n",
    "\n",
    "# Training/Test split\n",
    "SMS_train = data_randomized[:training_test_index].reset_index(drop=True)\n",
    "SMS_test = data_randomized[training_test_index:].reset_index(drop=True)\n",
    "\n",
    "print(f\"Traing data size : {SMS_train.shape}\")\n",
    "print(f\"Testing data size : {SMS_test.shape}\")"
   ]
  },
  {
   "cell_type": "code",
   "execution_count": 7,
   "metadata": {},
   "outputs": [
    {
     "data": {
      "text/plain": [
       "ham     86.54\n",
       "spam    13.46\n",
       "Name: Label, dtype: float64"
      ]
     },
     "execution_count": 7,
     "metadata": {},
     "output_type": "execute_result"
    }
   ],
   "source": [
    "(SMS_train['Label'].value_counts(normalize=True)*100).round(2)"
   ]
  },
  {
   "cell_type": "code",
   "execution_count": 8,
   "metadata": {},
   "outputs": [
    {
     "data": {
      "text/plain": [
       "ham     86.8\n",
       "spam    13.2\n",
       "Name: Label, dtype: float64"
      ]
     },
     "execution_count": 8,
     "metadata": {},
     "output_type": "execute_result"
    }
   ],
   "source": [
    "(SMS_test['Label'].value_counts(normalize=True)*100).round(2)"
   ]
  },
  {
   "cell_type": "markdown",
   "metadata": {},
   "source": [
    "The original relation between spam and non-spam messages from the original dataset is kept for both training and testing datasets."
   ]
  },
  {
   "cell_type": "markdown",
   "metadata": {},
   "source": [
    "## Data cleaning"
   ]
  },
  {
   "cell_type": "markdown",
   "metadata": {},
   "source": [
    "Our end goal with this data cleaning process is to bring our training set to this format to make the calculations easier for our algorithm:\n",
    "\n",
    "<img src='https://dq-content.s3.amazonaws.com/433/cpgp_dataset_3.png' width=\"500\" height=\"600\">\n",
    "\n",
    "With the exception of the \"Label\" column, every other column in the transformed table above represents a unique word in our vocabulary (more specifically, each column shows the frequency of that unique word for any given message). "
   ]
  },
  {
   "cell_type": "code",
   "execution_count": 9,
   "metadata": {},
   "outputs": [
    {
     "name": "stderr",
     "output_type": "stream",
     "text": [
      "<ipython-input-9-8d3332507607>:2: FutureWarning: The default value of regex will change from True to False in a future version.\n",
      "  SMS_train['SMS'] = SMS_train['SMS'].str.replace(r'[^\\w\\s]', ' ').str.lower()\n"
     ]
    },
    {
     "data": {
      "text/html": [
       "<div>\n",
       "<style scoped>\n",
       "    .dataframe tbody tr th:only-of-type {\n",
       "        vertical-align: middle;\n",
       "    }\n",
       "\n",
       "    .dataframe tbody tr th {\n",
       "        vertical-align: top;\n",
       "    }\n",
       "\n",
       "    .dataframe thead th {\n",
       "        text-align: right;\n",
       "    }\n",
       "</style>\n",
       "<table border=\"1\" class=\"dataframe\">\n",
       "  <thead>\n",
       "    <tr style=\"text-align: right;\">\n",
       "      <th></th>\n",
       "      <th>Label</th>\n",
       "      <th>SMS</th>\n",
       "    </tr>\n",
       "  </thead>\n",
       "  <tbody>\n",
       "    <tr>\n",
       "      <th>0</th>\n",
       "      <td>ham</td>\n",
       "      <td>yep  by the pretty sculpture</td>\n",
       "    </tr>\n",
       "    <tr>\n",
       "      <th>1</th>\n",
       "      <td>ham</td>\n",
       "      <td>yes  princess  are you going to make me moan</td>\n",
       "    </tr>\n",
       "    <tr>\n",
       "      <th>2</th>\n",
       "      <td>ham</td>\n",
       "      <td>welp apparently he retired</td>\n",
       "    </tr>\n",
       "    <tr>\n",
       "      <th>3</th>\n",
       "      <td>ham</td>\n",
       "      <td>havent</td>\n",
       "    </tr>\n",
       "    <tr>\n",
       "      <th>4</th>\n",
       "      <td>ham</td>\n",
       "      <td>i forgot 2 ask ü all smth   there s a card on ...</td>\n",
       "    </tr>\n",
       "  </tbody>\n",
       "</table>\n",
       "</div>"
      ],
      "text/plain": [
       "  Label                                                SMS\n",
       "0   ham                       yep  by the pretty sculpture\n",
       "1   ham      yes  princess  are you going to make me moan \n",
       "2   ham                         welp apparently he retired\n",
       "3   ham                                            havent \n",
       "4   ham  i forgot 2 ask ü all smth   there s a card on ..."
      ]
     },
     "execution_count": 9,
     "metadata": {},
     "output_type": "execute_result"
    }
   ],
   "source": [
    "# Remove all the punctuation from SMS column and make all the strings lowercase\n",
    "SMS_train['SMS'] = SMS_train['SMS'].str.replace(r'[^\\w\\s]', ' ').str.lower()\n",
    "SMS_train.head()"
   ]
  },
  {
   "cell_type": "markdown",
   "metadata": {},
   "source": [
    "## Data transformation"
   ]
  },
  {
   "cell_type": "code",
   "execution_count": 10,
   "metadata": {},
   "outputs": [
    {
     "data": {
      "text/plain": [
       "['yep', 'by', 'the', 'pretty', 'sculpture']"
      ]
     },
     "execution_count": 10,
     "metadata": {},
     "output_type": "execute_result"
    }
   ],
   "source": [
    "# Extract all the words into vocabulary\n",
    "SMS_train['SMS'] = SMS_train['SMS'].str.split()\n",
    "\n",
    "vocabulary = []\n",
    "for sms in SMS_train['SMS']:\n",
    "    for word in sms:\n",
    "        vocabulary.append(word)\n",
    "    \n",
    "vocabulary[:5]"
   ]
  },
  {
   "cell_type": "code",
   "execution_count": 11,
   "metadata": {},
   "outputs": [
    {
     "name": "stdout",
     "output_type": "stream",
     "text": [
      "Vocabulary original length: 72427\n",
      "Vocabulary w/o duplicates length: 7783\n"
     ]
    }
   ],
   "source": [
    "# Delete the duplicates\n",
    "vocabulary_final = list(set(vocabulary))\n",
    "print(f\"Vocabulary original length: {len(vocabulary)}\")\n",
    "print(f\"Vocabulary w/o duplicates length: {len(vocabulary_final)}\")"
   ]
  },
  {
   "cell_type": "code",
   "execution_count": 12,
   "metadata": {},
   "outputs": [],
   "source": [
    "# Create a dictionary counting each word from vocabulary apperance in each SMS \n",
    "word_counts_per_sms = {unique_word: [0] * len(SMS_train['SMS']) for unique_word in vocabulary_final}\n",
    "\n",
    "for index, sms in enumerate(SMS_train['SMS']):\n",
    "    for word in sms:\n",
    "        word_counts_per_sms[word][index] += 1"
   ]
  },
  {
   "cell_type": "code",
   "execution_count": 13,
   "metadata": {},
   "outputs": [
    {
     "data": {
      "text/plain": [
       "(4458, 7783)"
      ]
     },
     "execution_count": 13,
     "metadata": {},
     "output_type": "execute_result"
    }
   ],
   "source": [
    "words = pd.DataFrame(word_counts_per_sms)\n",
    "words.shape"
   ]
  },
  {
   "cell_type": "code",
   "execution_count": 14,
   "metadata": {},
   "outputs": [
    {
     "data": {
      "text/html": [
       "<div>\n",
       "<style scoped>\n",
       "    .dataframe tbody tr th:only-of-type {\n",
       "        vertical-align: middle;\n",
       "    }\n",
       "\n",
       "    .dataframe tbody tr th {\n",
       "        vertical-align: top;\n",
       "    }\n",
       "\n",
       "    .dataframe thead th {\n",
       "        text-align: right;\n",
       "    }\n",
       "</style>\n",
       "<table border=\"1\" class=\"dataframe\">\n",
       "  <thead>\n",
       "    <tr style=\"text-align: right;\">\n",
       "      <th></th>\n",
       "      <th>leo</th>\n",
       "      <th>conditions</th>\n",
       "      <th>complain</th>\n",
       "      <th>status</th>\n",
       "      <th>egg</th>\n",
       "      <th>middle</th>\n",
       "      <th>missionary</th>\n",
       "      <th>ktv</th>\n",
       "      <th>freely</th>\n",
       "      <th>3d</th>\n",
       "      <th>tickets</th>\n",
       "      <th>nanny</th>\n",
       "      <th>grab</th>\n",
       "      <th>smaller</th>\n",
       "      <th>ntimate</th>\n",
       "    </tr>\n",
       "  </thead>\n",
       "  <tbody>\n",
       "    <tr>\n",
       "      <th>0</th>\n",
       "      <td>0</td>\n",
       "      <td>0</td>\n",
       "      <td>0</td>\n",
       "      <td>0</td>\n",
       "      <td>0</td>\n",
       "      <td>0</td>\n",
       "      <td>0</td>\n",
       "      <td>0</td>\n",
       "      <td>0</td>\n",
       "      <td>0</td>\n",
       "      <td>0</td>\n",
       "      <td>0</td>\n",
       "      <td>0</td>\n",
       "      <td>0</td>\n",
       "      <td>0</td>\n",
       "    </tr>\n",
       "    <tr>\n",
       "      <th>1</th>\n",
       "      <td>0</td>\n",
       "      <td>0</td>\n",
       "      <td>0</td>\n",
       "      <td>0</td>\n",
       "      <td>0</td>\n",
       "      <td>0</td>\n",
       "      <td>0</td>\n",
       "      <td>0</td>\n",
       "      <td>0</td>\n",
       "      <td>0</td>\n",
       "      <td>0</td>\n",
       "      <td>0</td>\n",
       "      <td>0</td>\n",
       "      <td>0</td>\n",
       "      <td>0</td>\n",
       "    </tr>\n",
       "    <tr>\n",
       "      <th>2</th>\n",
       "      <td>0</td>\n",
       "      <td>0</td>\n",
       "      <td>0</td>\n",
       "      <td>0</td>\n",
       "      <td>0</td>\n",
       "      <td>0</td>\n",
       "      <td>0</td>\n",
       "      <td>0</td>\n",
       "      <td>0</td>\n",
       "      <td>0</td>\n",
       "      <td>0</td>\n",
       "      <td>0</td>\n",
       "      <td>0</td>\n",
       "      <td>0</td>\n",
       "      <td>0</td>\n",
       "    </tr>\n",
       "    <tr>\n",
       "      <th>3</th>\n",
       "      <td>0</td>\n",
       "      <td>0</td>\n",
       "      <td>0</td>\n",
       "      <td>0</td>\n",
       "      <td>0</td>\n",
       "      <td>0</td>\n",
       "      <td>0</td>\n",
       "      <td>0</td>\n",
       "      <td>0</td>\n",
       "      <td>0</td>\n",
       "      <td>0</td>\n",
       "      <td>0</td>\n",
       "      <td>0</td>\n",
       "      <td>0</td>\n",
       "      <td>0</td>\n",
       "    </tr>\n",
       "    <tr>\n",
       "      <th>4</th>\n",
       "      <td>0</td>\n",
       "      <td>0</td>\n",
       "      <td>0</td>\n",
       "      <td>0</td>\n",
       "      <td>0</td>\n",
       "      <td>0</td>\n",
       "      <td>0</td>\n",
       "      <td>0</td>\n",
       "      <td>0</td>\n",
       "      <td>0</td>\n",
       "      <td>0</td>\n",
       "      <td>0</td>\n",
       "      <td>0</td>\n",
       "      <td>0</td>\n",
       "      <td>0</td>\n",
       "    </tr>\n",
       "  </tbody>\n",
       "</table>\n",
       "</div>"
      ],
      "text/plain": [
       "   leo  conditions  complain  status  egg  middle  missionary  ktv  freely  \\\n",
       "0    0           0         0       0    0       0           0    0       0   \n",
       "1    0           0         0       0    0       0           0    0       0   \n",
       "2    0           0         0       0    0       0           0    0       0   \n",
       "3    0           0         0       0    0       0           0    0       0   \n",
       "4    0           0         0       0    0       0           0    0       0   \n",
       "\n",
       "   3d  tickets  nanny  grab  smaller  ntimate  \n",
       "0   0        0      0     0        0        0  \n",
       "1   0        0      0     0        0        0  \n",
       "2   0        0      0     0        0        0  \n",
       "3   0        0      0     0        0        0  \n",
       "4   0        0      0     0        0        0  "
      ]
     },
     "execution_count": 14,
     "metadata": {},
     "output_type": "execute_result"
    }
   ],
   "source": [
    "# Print just first 15 columns due to the huge size of the dataset\n",
    "words.iloc[:,:15].head()"
   ]
  },
  {
   "cell_type": "code",
   "execution_count": 15,
   "metadata": {},
   "outputs": [
    {
     "data": {
      "text/html": [
       "<div>\n",
       "<style scoped>\n",
       "    .dataframe tbody tr th:only-of-type {\n",
       "        vertical-align: middle;\n",
       "    }\n",
       "\n",
       "    .dataframe tbody tr th {\n",
       "        vertical-align: top;\n",
       "    }\n",
       "\n",
       "    .dataframe thead th {\n",
       "        text-align: right;\n",
       "    }\n",
       "</style>\n",
       "<table border=\"1\" class=\"dataframe\">\n",
       "  <thead>\n",
       "    <tr style=\"text-align: right;\">\n",
       "      <th></th>\n",
       "      <th>Label</th>\n",
       "      <th>leo</th>\n",
       "      <th>conditions</th>\n",
       "      <th>complain</th>\n",
       "      <th>status</th>\n",
       "      <th>egg</th>\n",
       "      <th>middle</th>\n",
       "      <th>missionary</th>\n",
       "      <th>ktv</th>\n",
       "      <th>freely</th>\n",
       "      <th>3d</th>\n",
       "      <th>tickets</th>\n",
       "      <th>nanny</th>\n",
       "      <th>grab</th>\n",
       "      <th>smaller</th>\n",
       "    </tr>\n",
       "  </thead>\n",
       "  <tbody>\n",
       "    <tr>\n",
       "      <th>0</th>\n",
       "      <td>ham</td>\n",
       "      <td>0</td>\n",
       "      <td>0</td>\n",
       "      <td>0</td>\n",
       "      <td>0</td>\n",
       "      <td>0</td>\n",
       "      <td>0</td>\n",
       "      <td>0</td>\n",
       "      <td>0</td>\n",
       "      <td>0</td>\n",
       "      <td>0</td>\n",
       "      <td>0</td>\n",
       "      <td>0</td>\n",
       "      <td>0</td>\n",
       "      <td>0</td>\n",
       "    </tr>\n",
       "    <tr>\n",
       "      <th>1</th>\n",
       "      <td>ham</td>\n",
       "      <td>0</td>\n",
       "      <td>0</td>\n",
       "      <td>0</td>\n",
       "      <td>0</td>\n",
       "      <td>0</td>\n",
       "      <td>0</td>\n",
       "      <td>0</td>\n",
       "      <td>0</td>\n",
       "      <td>0</td>\n",
       "      <td>0</td>\n",
       "      <td>0</td>\n",
       "      <td>0</td>\n",
       "      <td>0</td>\n",
       "      <td>0</td>\n",
       "    </tr>\n",
       "    <tr>\n",
       "      <th>2</th>\n",
       "      <td>ham</td>\n",
       "      <td>0</td>\n",
       "      <td>0</td>\n",
       "      <td>0</td>\n",
       "      <td>0</td>\n",
       "      <td>0</td>\n",
       "      <td>0</td>\n",
       "      <td>0</td>\n",
       "      <td>0</td>\n",
       "      <td>0</td>\n",
       "      <td>0</td>\n",
       "      <td>0</td>\n",
       "      <td>0</td>\n",
       "      <td>0</td>\n",
       "      <td>0</td>\n",
       "    </tr>\n",
       "    <tr>\n",
       "      <th>3</th>\n",
       "      <td>ham</td>\n",
       "      <td>0</td>\n",
       "      <td>0</td>\n",
       "      <td>0</td>\n",
       "      <td>0</td>\n",
       "      <td>0</td>\n",
       "      <td>0</td>\n",
       "      <td>0</td>\n",
       "      <td>0</td>\n",
       "      <td>0</td>\n",
       "      <td>0</td>\n",
       "      <td>0</td>\n",
       "      <td>0</td>\n",
       "      <td>0</td>\n",
       "      <td>0</td>\n",
       "    </tr>\n",
       "    <tr>\n",
       "      <th>4</th>\n",
       "      <td>ham</td>\n",
       "      <td>0</td>\n",
       "      <td>0</td>\n",
       "      <td>0</td>\n",
       "      <td>0</td>\n",
       "      <td>0</td>\n",
       "      <td>0</td>\n",
       "      <td>0</td>\n",
       "      <td>0</td>\n",
       "      <td>0</td>\n",
       "      <td>0</td>\n",
       "      <td>0</td>\n",
       "      <td>0</td>\n",
       "      <td>0</td>\n",
       "      <td>0</td>\n",
       "    </tr>\n",
       "  </tbody>\n",
       "</table>\n",
       "</div>"
      ],
      "text/plain": [
       "  Label  leo  conditions  complain  status  egg  middle  missionary  ktv  \\\n",
       "0   ham    0           0         0       0    0       0           0    0   \n",
       "1   ham    0           0         0       0    0       0           0    0   \n",
       "2   ham    0           0         0       0    0       0           0    0   \n",
       "3   ham    0           0         0       0    0       0           0    0   \n",
       "4   ham    0           0         0       0    0       0           0    0   \n",
       "\n",
       "   freely  3d  tickets  nanny  grab  smaller  \n",
       "0       0   0        0      0     0        0  \n",
       "1       0   0        0      0     0        0  \n",
       "2       0   0        0      0     0        0  \n",
       "3       0   0        0      0     0        0  \n",
       "4       0   0        0      0     0        0  "
      ]
     },
     "execution_count": 15,
     "metadata": {},
     "output_type": "execute_result"
    }
   ],
   "source": [
    "# Create a final dataset for training\n",
    "SMS_train_final = pd.concat([SMS_train['Label'], words], axis = 1)\n",
    "SMS_train_final.iloc[:,:15].head(5)"
   ]
  },
  {
   "cell_type": "markdown",
   "metadata": {},
   "source": [
    "## Creating the constants"
   ]
  },
  {
   "cell_type": "markdown",
   "metadata": {},
   "source": [
    "For the multinominal Naive Bayes algorithm will need to know the probability values of the two equations below to be able to classify new messages:\n",
    "\n",
    "<img src='https://render.githubusercontent.com/render/math?math=P%28Spam%20%7C%20w_1%2Cw_2%2C%20...%2C%20w_n%29%20%5Cpropto%20P%28Spam%29%20%5Ccdot%20%5Cprod_%7Bi%3D1%7D%5E%7Bn%7DP%28w_i%7CSpam%29&mode=display' width=\"500\" height=\"600\">\n",
    "\n",
    "<img src='https://render.githubusercontent.com/render/math?math=P%28Ham%20%7C%20w_1%2Cw_2%2C%20...%2C%20w_n%29%20%5Cpropto%20P%28Ham%29%20%5Ccdot%20%5Cprod_%7Bi%3D1%7D%5E%7Bn%7DP%28w_i%7CHam%29&mode=display' width=\"500\" height=\"600\">\n",
    "\n",
    "Also, to calculate P(wi|Spam) and P(wi|Ham) inside the formulas above, since we are using **Multinominal Bayes classification** we need to use these equations:\n",
    "\n",
    "<img src='https://render.githubusercontent.com/render/math?math=P%28w_i%7CSpam%29%20%3D%20%5Cfrac%7BN_%7Bw_i%7CSpam%7D%20%2B%20%5Calpha%7D%7BN_%7BSpam%7D%20%2B%20%5Calpha%20%5Ccdot%20N_%7BVocabulary%7D%7D&mode=display' width=\"400\" height=\"500\">\n",
    "\n",
    "<img src='https://render.githubusercontent.com/render/math?math=P%28w_i%7CHam%29%20%3D%20%5Cfrac%7BN_%7Bw_i%7CHam%7D%20%2B%20%5Calpha%7D%7BN_%7BHam%7D%20%2B%20%5Calpha%20%5Ccdot%20N_%7BVocabulary%7D%7D&mode=display' width=\"400\" height=\"500\">\n",
    "\n",
    "ome of the terms in the four equations above will have the same value for every new message. As a start, let's first calculate:\n",
    "\n",
    "* P(Spam) and P(Ham) (P(No Spam))\n",
    "* NSpam, NHam, NVocabulary\n",
    "\n",
    "We'll also use Laplace smoothing and set a = 1."
   ]
  },
  {
   "cell_type": "code",
   "execution_count": 16,
   "metadata": {},
   "outputs": [
    {
     "name": "stdout",
     "output_type": "stream",
     "text": [
      "The check is passed\n"
     ]
    }
   ],
   "source": [
    "alpha = 1\n",
    "\n",
    "p_no_spam = SMS_train_final['Label'].value_counts(normalize=True)['ham']\n",
    "p_spam = SMS_train_final['Label'].value_counts(normalize=True)['spam']\n",
    "\n",
    "N_vocab = len(vocabulary_final)\n",
    "\n",
    "# Calculate number of words for each SMS message\n",
    "SMS_train_final['word_num'] = SMS_train_final.iloc[:,1:].sum(axis=1)\n",
    "N_no_spam = SMS_train_final[SMS_train_final['Label'] == 'ham']['word_num'].sum()\n",
    "N_spam = SMS_train_final[SMS_train_final['Label'] == 'spam']['word_num'].sum()\n",
    "\n",
    "# Check\n",
    "if SMS_train_final['word_num'].sum() - N_no_spam - N_spam == 0:\n",
    "    print(\"The check is passed\")\n",
    "else:\n",
    "    print(\"There is a mistake in the calculations. Check your code.\")"
   ]
  },
  {
   "cell_type": "markdown",
   "metadata": {},
   "source": [
    "## Calculating the parameters"
   ]
  },
  {
   "cell_type": "markdown",
   "metadata": {},
   "source": [
    "P(wi|Spam) and P(wi|Ham) will vary depending on the individual words. For instance, P(\"Hi\"|Spam) will have a certain probability value, while P(\"cousin\"|Spam) or P(\"prize\"|Spam) will most likely have other values.\n",
    "\n",
    "Although both P(wi|Spam) and P(wi|Ham) vary depending on the word, the probability for each individual word is constant for every new message."
   ]
  },
  {
   "cell_type": "code",
   "execution_count": 17,
   "metadata": {},
   "outputs": [],
   "source": [
    "# Isolate spam and not spam dataframes\n",
    "no_spam_df = SMS_train_final[SMS_train_final['Label'] == 'ham']\n",
    "spam_df = SMS_train_final[SMS_train_final['Label'] == 'spam']"
   ]
  },
  {
   "cell_type": "code",
   "execution_count": 18,
   "metadata": {},
   "outputs": [],
   "source": [
    "# Initialize spam and not spam count dictionaries \n",
    "no_spam_words = {word:0 for word in vocabulary_final}\n",
    "spam_words = {word:0 for word in vocabulary_final}\n",
    "\n",
    "# Calculate probabilities of each word|spam\n",
    "for word in spam_words:\n",
    "    N_word_given_spam = spam_df[word].sum()\n",
    "    spam_words[word] = (N_word_given_spam + alpha)/(N_spam + alpha*N_vocab)\n",
    "    \n",
    "for word in no_spam_words:\n",
    "    N_word_given_no_spam = no_spam_df[word].sum()\n",
    "    no_spam_words[word] = (N_word_given_no_spam + alpha)/(N_no_spam + alpha*N_vocab)"
   ]
  },
  {
   "cell_type": "markdown",
   "metadata": {},
   "source": [
    "## Creating a spam filter"
   ]
  },
  {
   "cell_type": "markdown",
   "metadata": {},
   "source": [
    "Now that we've calculated all the constants and parameters we need, we can start creating the spam filter. The spam filter can be understood as a function that:\n",
    "\n",
    "* Takes in as input a new message (w1, w2, ..., wn)\n",
    "* Calculates P(Spam|w1, w2, ..., wn) and P(Ham|w1, w2, ..., wn)\n",
    "* Compares the values of P(Spam|w1, w2, ..., wn) and P(Ham|w1, w2, ..., wn), and:\n",
    "    - If P(Ham|w1, w2, ..., wn) > P(Spam|w1, w2, ..., wn), then the message is classified as ham.\n",
    "    - If P(Ham|w1, w2, ..., wn) < P(Spam|w1, w2, ..., wn), then the message is classified as spam.\n",
    "    - If P(Ham|w1, w2, ..., wn) = P(Spam|w1, w2, ..., wn), then the algorithm may request human help."
   ]
  },
  {
   "cell_type": "code",
   "execution_count": 19,
   "metadata": {},
   "outputs": [],
   "source": [
    "def classify(message):\n",
    "    message = re.sub('\\W', ' ', message).lower().split() # String cleaning\n",
    "    p_spam_given_message = p_spam\n",
    "    p_no_spam_given_message = p_no_spam\n",
    "    \n",
    "    for word in message:\n",
    "        if word in spam_words:\n",
    "            p_spam_given_message *= spam_words[word]\n",
    "        if word in no_spam_words:\n",
    "            p_no_spam_given_message *= no_spam_words[word]\n",
    "    \n",
    "    print('P(spam|message):', p_spam_given_message)\n",
    "    print('P(no_spam|message):', p_no_spam_given_message)\n",
    "    \n",
    "    if p_spam_given_message > p_no_spam_given_message:\n",
    "        return \"This is spam\"\n",
    "    elif p_spam_given_message < p_no_spam_given_message:\n",
    "        return \"This is not spam\"\n",
    "    else:\n",
    "        return \"We need a human to classify that\""
   ]
  },
  {
   "cell_type": "code",
   "execution_count": 20,
   "metadata": {},
   "outputs": [
    {
     "name": "stdout",
     "output_type": "stream",
     "text": [
      "P(spam|message): 1.3481290211300841e-25\n",
      "P(no_spam|message): 1.9368049028589875e-27\n",
      "This is spam\n",
      "P(spam|message): 2.4372375665888117e-25\n",
      "P(no_spam|message): 3.687530435009238e-21\n",
      "This is not spam\n"
     ]
    }
   ],
   "source": [
    "# Trial check\n",
    "print(classify('WINNER!! This is the secret code to unlock the money: C3421.'))\n",
    "print(classify(\"Sounds good, Tom, then see u there\"))"
   ]
  },
  {
   "cell_type": "markdown",
   "metadata": {},
   "source": [
    "## Measuring a spam filter accuracy"
   ]
  },
  {
   "cell_type": "code",
   "execution_count": 21,
   "metadata": {},
   "outputs": [],
   "source": [
    "# Make a function applicable to the dataset\n",
    "def classify_test_set(message):\n",
    "    message = re.sub('\\W', ' ', message).lower().split() # String cleaning\n",
    "    p_spam_given_message = p_spam\n",
    "    p_no_spam_given_message = p_no_spam\n",
    "    \n",
    "    for word in message:\n",
    "        if word in spam_words:\n",
    "            p_spam_given_message *= spam_words[word]\n",
    "        if word in no_spam_words:\n",
    "            p_no_spam_given_message *= no_spam_words[word]\n",
    "    \n",
    "    if p_spam_given_message > p_no_spam_given_message:\n",
    "        return \"spam\"\n",
    "    elif p_spam_given_message < p_no_spam_given_message:\n",
    "        return \"ham\"\n",
    "    else:\n",
    "        return \"We need a human to classify that\""
   ]
  },
  {
   "cell_type": "code",
   "execution_count": 22,
   "metadata": {},
   "outputs": [
    {
     "data": {
      "text/html": [
       "<div>\n",
       "<style scoped>\n",
       "    .dataframe tbody tr th:only-of-type {\n",
       "        vertical-align: middle;\n",
       "    }\n",
       "\n",
       "    .dataframe tbody tr th {\n",
       "        vertical-align: top;\n",
       "    }\n",
       "\n",
       "    .dataframe thead th {\n",
       "        text-align: right;\n",
       "    }\n",
       "</style>\n",
       "<table border=\"1\" class=\"dataframe\">\n",
       "  <thead>\n",
       "    <tr style=\"text-align: right;\">\n",
       "      <th></th>\n",
       "      <th>Label</th>\n",
       "      <th>SMS</th>\n",
       "      <th>prediction</th>\n",
       "    </tr>\n",
       "  </thead>\n",
       "  <tbody>\n",
       "    <tr>\n",
       "      <th>165</th>\n",
       "      <td>ham</td>\n",
       "      <td>Okey dokey swashbuckling stuff what oh.</td>\n",
       "      <td>ham</td>\n",
       "    </tr>\n",
       "    <tr>\n",
       "      <th>774</th>\n",
       "      <td>ham</td>\n",
       "      <td>Hhahhaahahah rofl wtf nig was leonardo in your...</td>\n",
       "      <td>ham</td>\n",
       "    </tr>\n",
       "    <tr>\n",
       "      <th>138</th>\n",
       "      <td>ham</td>\n",
       "      <td>Did you see that film:)</td>\n",
       "      <td>ham</td>\n",
       "    </tr>\n",
       "    <tr>\n",
       "      <th>739</th>\n",
       "      <td>ham</td>\n",
       "      <td>How long before you get reply, just defer admi...</td>\n",
       "      <td>ham</td>\n",
       "    </tr>\n",
       "    <tr>\n",
       "      <th>477</th>\n",
       "      <td>ham</td>\n",
       "      <td>Living is very simple.. Loving is also simple....</td>\n",
       "      <td>ham</td>\n",
       "    </tr>\n",
       "    <tr>\n",
       "      <th>906</th>\n",
       "      <td>ham</td>\n",
       "      <td>Can ü all decide faster cos my sis going home ...</td>\n",
       "      <td>ham</td>\n",
       "    </tr>\n",
       "    <tr>\n",
       "      <th>860</th>\n",
       "      <td>ham</td>\n",
       "      <td>Hey morning what you come to ask:-) pa...</td>\n",
       "      <td>ham</td>\n",
       "    </tr>\n",
       "    <tr>\n",
       "      <th>560</th>\n",
       "      <td>ham</td>\n",
       "      <td>K:)i will give my kvb acc details:)</td>\n",
       "      <td>ham</td>\n",
       "    </tr>\n",
       "    <tr>\n",
       "      <th>1002</th>\n",
       "      <td>ham</td>\n",
       "      <td>The evo. I just had to download flash. Jealous?</td>\n",
       "      <td>ham</td>\n",
       "    </tr>\n",
       "    <tr>\n",
       "      <th>768</th>\n",
       "      <td>ham</td>\n",
       "      <td>Are you sure you don't mean \"get here, we made...</td>\n",
       "      <td>ham</td>\n",
       "    </tr>\n",
       "  </tbody>\n",
       "</table>\n",
       "</div>"
      ],
      "text/plain": [
       "     Label                                                SMS prediction\n",
       "165    ham            Okey dokey swashbuckling stuff what oh.        ham\n",
       "774    ham  Hhahhaahahah rofl wtf nig was leonardo in your...        ham\n",
       "138    ham                            Did you see that film:)        ham\n",
       "739    ham  How long before you get reply, just defer admi...        ham\n",
       "477    ham  Living is very simple.. Loving is also simple....        ham\n",
       "906    ham  Can ü all decide faster cos my sis going home ...        ham\n",
       "860    ham          Hey morning what you come to ask:-) pa...        ham\n",
       "560    ham                K:)i will give my kvb acc details:)        ham\n",
       "1002   ham    The evo. I just had to download flash. Jealous?        ham\n",
       "768    ham  Are you sure you don't mean \"get here, we made...        ham"
      ]
     },
     "execution_count": 22,
     "metadata": {},
     "output_type": "execute_result"
    }
   ],
   "source": [
    "# Test the function\n",
    "SMS_test['prediction'] = SMS_test['SMS'].apply(classify_test_set)\n",
    "SMS_test.sample(10)"
   ]
  },
  {
   "cell_type": "code",
   "execution_count": 23,
   "metadata": {},
   "outputs": [
    {
     "name": "stdout",
     "output_type": "stream",
     "text": [
      "Correctly predicted: 1100\n",
      "Incorrectly predicted: 1114\n",
      "The accuracy of manually written Naive Bayes: 0.9874326750448833\n"
     ]
    }
   ],
   "source": [
    "# Measure the accuracy\n",
    "correct = 0\n",
    "total = SMS_test.shape[0]\n",
    "for row in SMS_test.iterrows():\n",
    "    row = row[1] # To get rid of index\n",
    "    if row['Label'] == row['prediction']:\n",
    "        correct += 1\n",
    "        \n",
    "print(f\"Correctly predicted: {correct}\")\n",
    "print(f\"Incorrectly predicted: {total}\")\n",
    "print(f\"The accuracy of manually written Naive Bayes: {correct/total}\")"
   ]
  },
  {
   "cell_type": "markdown",
   "metadata": {},
   "source": [
    "## Comparing result with scikit learn library"
   ]
  },
  {
   "cell_type": "markdown",
   "metadata": {},
   "source": [
    "Scikit learn library has a [module](https://scikit-learn.org/stable/modules/generated/sklearn.naive_bayes.MultinomialNB.html) related to Multinomial Naive Bayes classification. Let's implement it and compare the accuracy with a hand-written algorithm. We'll perform the following operations:\n",
    "\n",
    "* Make a copy of an original dataset to use for scikit-learn training.\n",
    "* Divide it to training and testing datasets. It has to be mentioned, that these training and testing datasets will be different comparing to the datasets we used in the manually-written algorithm's accuracy calculations. It is done for the purpose of having a \"clear\" experiment, i.e., we would like to answer the question \"What will be the accuracy if we use typical scikit-learn approach to perform the same task\".\n",
    "* Vectorize the text from the `SMS` column.\n",
    "* Train the model.\n",
    "* Perform the prediction.\n",
    "* Evaluate the model's accuracy."
   ]
  },
  {
   "cell_type": "code",
   "execution_count": 24,
   "metadata": {},
   "outputs": [
    {
     "name": "stdout",
     "output_type": "stream",
     "text": [
      "The accuracy of the scikit-learn's Naive Bayes: 0.9901345291479821\n"
     ]
    }
   ],
   "source": [
    "# Applying scikit learn\n",
    "from sklearn.model_selection import train_test_split\n",
    "from sklearn.naive_bayes import MultinomialNB\n",
    "from sklearn.feature_extraction.text import CountVectorizer\n",
    "from sklearn.metrics import accuracy_score\n",
    "\n",
    "SMS_sk = SMS.copy()\n",
    "\n",
    "# Encode labels\n",
    "SMS_sk.replace('ham', 0, inplace = True)\n",
    "SMS_sk.replace('spam', 1, inplace = True)\n",
    "\n",
    "# Divide the dataset\n",
    "train, test = train_test_split(SMS_sk, test_size=0.2, random_state=1)\n",
    "\n",
    "# Prepare data\n",
    "y_train = train['Label']\n",
    "y_test = test['Label']\n",
    "\n",
    "# Vectorize strings from 'SMS' column\n",
    "cv = CountVectorizer(binary=False, max_df=0.95)\n",
    "cv.fit(train['SMS']) # To get a dictionary\n",
    "train_feature_set = cv.transform(train['SMS'])\n",
    "test_feature_set = cv.transform(test['SMS'])\n",
    "\n",
    "# Train the model\n",
    "clf = MultinomialNB()\n",
    "clf.fit(train_feature_set, y_train)\n",
    "\n",
    "# Predict the result\n",
    "pred = clf.predict(test_feature_set)\n",
    "\n",
    "# Evaluate the accuracy\n",
    "accuracy_score(y_test, pred)\n",
    "\n",
    "print(f\"The accuracy of the scikit-learn's Naive Bayes: {accuracy_score(y_test, pred)}\")"
   ]
  },
  {
   "cell_type": "markdown",
   "metadata": {},
   "source": [
    "## Conclusions"
   ]
  },
  {
   "cell_type": "markdown",
   "metadata": {},
   "source": [
    "In this project, we managed to build a spam filter for SMS messages using the Multinomial Naive Bayes algorithm. The filter had an accuracy of 98.74% on the test set, which is an excellent result. We initially aimed for an accuracy of over 80%, but we managed to do way better than that. Moreover, our accuracy was just a bit lower than scikit learn's `MultinomialNB` classifier's (99.01%)."
   ]
  }
 ],
 "metadata": {
  "kernelspec": {
   "display_name": "Python 3",
   "language": "python",
   "name": "python3"
  },
  "language_info": {
   "codemirror_mode": {
    "name": "ipython",
    "version": 3
   },
   "file_extension": ".py",
   "mimetype": "text/x-python",
   "name": "python",
   "nbconvert_exporter": "python",
   "pygments_lexer": "ipython3",
   "version": "3.8.5"
  }
 },
 "nbformat": 4,
 "nbformat_minor": 4
}
